{
 "cells": [
  {
   "cell_type": "code",
   "execution_count": 1,
   "metadata": {},
   "outputs": [],
   "source": [
    "import numpy as np\n",
    "import pandas as pd\n",
    "import numpy.matlib\n",
    "import matplotlib.pyplot as plt\n",
    "import seaborn as sns\n",
    "import random\n",
    "from sklearn.cluster import KMeans\n",
    "from mpl_toolkits.mplot3d import Axes3D\n",
    "from sklearn import preprocessing\n",
    "\n",
    "\n",
    "\n",
    "data=pd.read_csv(\"https://raw.githubusercontent.com/OxCGRT/USA-covid-policy/master/data/OxCGRT_US_latest.csv\")\n"
   ]
  },
  {
   "cell_type": "code",
   "execution_count": 2,
   "metadata": {},
   "outputs": [],
   "source": [
    "data_new=data[[\"RegionName\", \"Jurisdiction\", \"Date\", 'StringencyIndexForDisplay', 'GovernmentResponseIndexForDisplay', 'ContainmentHealthIndexForDisplay', 'EconomicSupportIndexForDisplay']]"
   ]
  },
  {
   "cell_type": "code",
   "execution_count": 3,
   "metadata": {},
   "outputs": [],
   "source": [
    "data=data_new[data.Jurisdiction==\"STATE_ALL\"]"
   ]
  },
  {
   "cell_type": "code",
   "execution_count": 4,
   "metadata": {},
   "outputs": [],
   "source": [
    "data_new.drop('Jurisdiction', axis=1, inplace=True)"
   ]
  },
  {
   "cell_type": "code",
   "execution_count": 5,
   "metadata": {},
   "outputs": [],
   "source": [
    "data=data_new"
   ]
  },
  {
   "cell_type": "code",
   "execution_count": 6,
   "metadata": {},
   "outputs": [],
   "source": [
    "data_march=data[data.Date.astype(str).str.contains(\"202003\")]\n",
    "# print(data_march.head)"
   ]
  },
  {
   "cell_type": "code",
   "execution_count": 7,
   "metadata": {},
   "outputs": [],
   "source": [
    "columns_to_normalize=[\"StringencyIndexForDisplay\", \"GovernmentResponseIndexForDisplay\", \"ContainmentHealthIndexForDisplay\", \"EconomicSupportIndexForDisplay\"]\n",
    "def normalize_columns():\n",
    "    for i in columns_to_normalize:\n",
    "        max=data_march[i].max()\n",
    "        min=data_march[i].min()\n",
    "        new_str=i+\"_norm\"\n",
    "        data_march[new_str]=(data_march[i]-min)/(max-min)"
   ]
  },
  {
   "cell_type": "code",
   "execution_count": 8,
   "metadata": {},
   "outputs": [
    {
     "name": "stderr",
     "output_type": "stream",
     "text": [
      "<ipython-input-7-68881d8f4363>:7: SettingWithCopyWarning: \n",
      "A value is trying to be set on a copy of a slice from a DataFrame.\n",
      "Try using .loc[row_indexer,col_indexer] = value instead\n",
      "\n",
      "See the caveats in the documentation: https://pandas.pydata.org/pandas-docs/stable/user_guide/indexing.html#returning-a-view-versus-a-copy\n",
      "  data_march[new_str]=(data_march[i]-min)/(max-min)\n"
     ]
    }
   ],
   "source": [
    "normalize_columns()\n",
    "# print(data_march.head)"
   ]
  },
  {
   "cell_type": "code",
   "execution_count": 9,
   "metadata": {},
   "outputs": [
    {
     "name": "stderr",
     "output_type": "stream",
     "text": [
      "<ipython-input-9-aeefa990e385>:1: SettingWithCopyWarning: \n",
      "A value is trying to be set on a copy of a slice from a DataFrame\n",
      "\n",
      "See the caveats in the documentation: https://pandas.pydata.org/pandas-docs/stable/user_guide/indexing.html#returning-a-view-versus-a-copy\n",
      "  data_march.dropna(axis=0, how=\"any\", inplace=True)\n"
     ]
    }
   ],
   "source": [
    "data_march.dropna(axis=0, how=\"any\", inplace=True)"
   ]
  },
  {
   "cell_type": "code",
   "execution_count": 10,
   "metadata": {
    "scrolled": true
   },
   "outputs": [
    {
     "data": {
      "image/png": "[encoded data removed]",
      "text/plain": [
       "<Figure size 432x288 with 1 Axes>"
      ]
     },
     "metadata": {
      "needs_background": "light"
     },
     "output_type": "display_data"
    }
   ],
   "source": [
    "# find OPTIMAL value for kmeans\n",
    "from sklearn.cluster import KMeans\n",
    "march_kmeans = pd.DataFrame(data_march, columns=['StringencyIndexForDisplay_norm', 'GovernmentResponseIndexForDisplay_norm', 'ContainmentHealthIndexForDisplay_norm', 'EconomicSupportIndexForDisplay_norm'])\n",
    "Sum_of_squared_distances = []\n",
    "K = range(1,25)\n",
    "for k in K:\n",
    "    km = KMeans(n_clusters=k)\n",
    "    km = km.fit(march_kmeans[['StringencyIndexForDisplay_norm', 'GovernmentResponseIndexForDisplay_norm', 'ContainmentHealthIndexForDisplay_norm', 'EconomicSupportIndexForDisplay_norm']])\n",
    "    Sum_of_squared_distances.append(km.inertia_)\n",
    "plt.plot(K, Sum_of_squared_distances, 'bx-')\n",
    "plt.xlabel('k')\n",
    "plt.ylabel('Sum_of_squared_distances')\n",
    "plt.title('Elbow Method For Optimal k')\n",
    "plt.show()\n",
    "\n"
   ]
  },
  {
   "cell_type": "code",
   "execution_count": 11,
   "metadata": {},
   "outputs": [
    {
     "name": "stdout",
     "output_type": "stream",
     "text": [
      "     StringencyIndexForDisplay_norm  GovernmentResponseIndexForDisplay_norm  \\\n",
      "321                        0.130414                                 0.13012   \n",
      "322                        0.130414                                 0.13012   \n",
      "323                        0.130414                                 0.13012   \n",
      "324                        0.130414                                 0.13012   \n",
      "325                        0.130414                                 0.13012   \n",
      "\n",
      "     ContainmentHealthIndexForDisplay_norm  \\\n",
      "321                               0.152357   \n",
      "322                               0.152357   \n",
      "323                               0.152357   \n",
      "324                               0.152357   \n",
      "325                               0.152357   \n",
      "\n",
      "     EconomicSupportIndexForDisplay_norm  Cluster   State  \n",
      "321                                  0.0        2  Alaska  \n",
      "322                                  0.0        2  Alaska  \n",
      "323                                  0.0        2  Alaska  \n",
      "324                                  0.0        2  Alaska  \n",
      "325                                  0.0        2  Alaska  \n"
     ]
    }
   ],
   "source": [
    "# run KMeans\n",
    "kmeans = KMeans(n_clusters=4)\n",
    "y = kmeans.fit_predict(march_kmeans[['StringencyIndexForDisplay_norm', 'GovernmentResponseIndexForDisplay_norm', 'ContainmentHealthIndexForDisplay_norm', 'EconomicSupportIndexForDisplay_norm']])\n",
    "march_kmeans['Cluster'] = y\n",
    "march_kmeans[\"State\"]=data_march[\"RegionName\"]\n",
    "print(march_kmeans.head())"
   ]
  },
  {
   "cell_type": "code",
   "execution_count": 12,
   "metadata": {},
   "outputs": [
    {
     "name": "stdout",
     "output_type": "stream",
     "text": [
      "{1: ['Washington DC', 'Georgia', 'North Dakota'], 2: ['California', 'Kentucky', 'Louisiana', 'Maryland', 'Maine', 'New Hampshire', 'New York', 'Rhode Island'], 3: ['Alaska', 'Alabama', 'Arkansas', 'Arizona', 'Colorado', 'Delaware', 'Hawaii', 'Iowa', 'Idaho', 'Illinois', 'Indiana', 'Kansas', 'Massachusetts', 'Missouri', 'Mississippi', 'Montana', 'Nebraska', 'New Jersey', 'New Mexico', 'Nevada', 'Oklahoma', 'Oregon', 'Pennsylvania', 'South Carolina', 'South Dakota', 'Tennessee', 'Texas', 'Utah', 'Virginia', 'Virgin Islands', 'Vermont', 'Wisconsin', 'West Virginia', 'Wyoming'], 4: ['Connecticut', 'Florida', 'Michigan', 'Minnesota', 'North Carolina', 'Ohio', 'Washington'], 5: [], 6: [], 7: [], 8: []}\n"
     ]
    }
   ],
   "source": [
    "# march make dictionaries of each state in each cluster and how many datapoints from that state are in that cluster\n",
    "\n",
    "march_cluster1={}\n",
    "march_cluster2={}\n",
    "march_cluster3={}\n",
    "march_cluster4={}\n",
    "march_cluster5={}\n",
    "march_cluster6={}\n",
    "march_cluster7={}\n",
    "march_cluster0={}\n",
    "list_of_clusters_dicts=[march_cluster0,march_cluster1,march_cluster2,march_cluster3,march_cluster4,march_cluster5,march_cluster6,march_cluster7]\n",
    "\n",
    "for index, row in march_kmeans.iterrows():\n",
    "    for i in range(0,8):\n",
    "        if row[\"Cluster\"]==i:\n",
    "            if row[\"State\"] in list_of_clusters_dicts[i]:\n",
    "                list_of_clusters_dicts[i][row[\"State\"]]+=1\n",
    "            else:\n",
    "                list_of_clusters_dicts[i][row[\"State\"]]=1\n",
    "\n",
    "list_of_clusters_dicts=[march_cluster0,march_cluster1,march_cluster2,march_cluster3,march_cluster4,march_cluster5,march_cluster6,march_cluster7]\n",
    "\n",
    "states_and_their_clusters={}\n",
    "for index, row in march_kmeans.iterrows():\n",
    "    if row[\"State\"] in states_and_their_clusters:\n",
    "        pass\n",
    "    else:\n",
    "        state_dict={}\n",
    "        for i in range(len(list_of_clusters_dicts)):\n",
    "            if row[\"State\"] in list_of_clusters_dicts[i]:\n",
    "                state_dict[i+1]=list_of_clusters_dicts[i][row[\"State\"]]\n",
    "        state_dict_vals=list(state_dict.values())\n",
    "        state_dict_keys=list(state_dict.keys())\n",
    "        state_vals_max=max(state_dict_vals)\n",
    "        max_ind=state_dict_vals.index(state_vals_max)\n",
    "        max_cluster= state_dict_keys[max_ind]\n",
    "        states_and_their_clusters[row[\"State\"]]= max_cluster\n",
    "# print(states_and_their_clusters)\n",
    "\n",
    "clusters_and_their_states={1:[], 2:[], 3:[], 4:[], 5:[], 6:[], 7:[], 8:[]}\n",
    "\n",
    "for i in states_and_their_clusters.keys():\n",
    "    for j in range(1,9):\n",
    "        if states_and_their_clusters[i]==j:\n",
    "            clusters_and_their_states[j].append(i)\n",
    "\n",
    "\n",
    "print(clusters_and_their_states)\n",
    "                \n",
    "    "
   ]
  },
  {
   "cell_type": "code",
   "execution_count": 13,
   "metadata": {},
   "outputs": [
    {
     "data": {
      "image/png": "[encoded data removed]",
      "text/plain": [
       "<Figure size 432x288 with 1 Axes>"
      ]
     },
     "metadata": {
      "needs_background": "light"
     },
     "output_type": "display_data"
    }
   ],
   "source": [
    "# 4d plot for march kmeans\n",
    "fig = plt.figure()\n",
    "ax = fig.add_subplot(111, projection='3d')\n",
    "\n",
    "x = march_kmeans[\"GovernmentResponseIndexForDisplay_norm\"]\n",
    "y = march_kmeans[\"ContainmentHealthIndexForDisplay_norm\"]\n",
    "z = march_kmeans[\"EconomicSupportIndexForDisplay_norm\"]\n",
    "# c = march_kmeans[\"StringencyIndexForDisplay_norm\"]\n",
    "s= march_kmeans[\"StringencyIndexForDisplay_norm\"]\n",
    "# img = ax.scatter(x, y, z, c=c, cmap=plt.hot())\n",
    "# img = ax.scatter(x, y, z)\n",
    "\n",
    "categories = np.unique(march_kmeans[\"Cluster\"])\n",
    "colors = np.linspace(0, 1, len(categories))\n",
    "colordict = dict(zip(categories, colors))  \n",
    "march_kmeans[\"Color\"] = march_kmeans[\"Cluster\"].apply(lambda x: colordict[x])\n",
    "\n",
    "img=ax.scatter(x,y,z, c=march_kmeans.Color)\n",
    "\n",
    "\n",
    "# fig.colorbar(img)\n",
    "plt.show()\n"
   ]
  },
  {
   "cell_type": "code",
   "execution_count": 14,
   "metadata": {},
   "outputs": [
    {
     "data": {
      "text/plain": [
       "'march K means.html'"
      ]
     },
     "execution_count": 14,
     "metadata": {},
     "output_type": "execute_result"
    }
   ],
   "source": [
    "# 5d plot for march kmeans\n",
    "\n",
    "import plotly\n",
    "import plotly.graph_objs as go\n",
    "\n",
    "#Set marker properties\n",
    "markersize = march_kmeans['StringencyIndexForDisplay_norm'] *30\n",
    "markercolor = march_kmeans['Cluster']\n",
    "\n",
    "#Make Plotly figure\n",
    "fig1 = go.Scatter3d(x=march_kmeans[\"GovernmentResponseIndexForDisplay_norm\"],\n",
    "                    y=march_kmeans[\"ContainmentHealthIndexForDisplay_norm\"],\n",
    "                    z=march_kmeans[\"EconomicSupportIndexForDisplay_norm\"],\n",
    "                    marker=dict(size=markersize,\n",
    "                                color=markercolor,\n",
    "                                opacity=0.9,\n",
    "                                reversescale=True,colorscale='Blues'),\n",
    "                    line=dict (width=0.02),\n",
    "                    mode='markers', hovertemplate=\"%{text}\" +\"<br>Stringency Index (out of 100): %{marker.size:,} <br> Gov't Response Index: %{x}\"+\"<br>Containment Health Index: %{y}\"+ \"<br>Economic Support Index: %{z}\",\n",
    "                    text=march_kmeans.State)\n",
    "\n",
    "#Make Plot.ly Layout\n",
    "mylayout = go.Layout(scene=dict(xaxis=dict( title=\"Gov't Response Index\"),\n",
    "                                yaxis=dict( title=\"Containment Health Index\"),\n",
    "                                zaxis=dict(title=\"Economic SUpport INdex\")),\n",
    "                    )\n",
    "\n",
    "#Plot and save html\n",
    "plotly.offline.plot({\"data\": [fig1],\n",
    "                     \"layout\": mylayout},\n",
    "                     auto_open=True, filename=(\"march K means.html\")\n",
    "                   )\n"
   ]
  },
  {
   "cell_type": "code",
   "execution_count": null,
   "metadata": {},
   "outputs": [],
   "source": []
  },
  {
   "cell_type": "code",
   "execution_count": null,
   "metadata": {},
   "outputs": [],
   "source": []
  }
 ],
 "metadata": {
  "kernelspec": {
   "display_name": "Python 3",
   "language": "python",
   "name": "python3"
  },
  "language_info": {
   "codemirror_mode": {
    "name": "ipython",
    "version": 3
   },
   "file_extension": ".py",
   "mimetype": "text/x-python",
   "name": "python",
   "nbconvert_exporter": "python",
   "pygments_lexer": "ipython3",
   "version": "3.8.2"
  }
 },
 "nbformat": 4,
 "nbformat_minor": 4
}
