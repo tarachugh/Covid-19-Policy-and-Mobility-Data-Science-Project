{
 "cells": [
  {
   "cell_type": "code",
   "execution_count": 1,
   "metadata": {},
   "outputs": [],
   "source": [
    "import numpy as np\n",
    "import pandas as pd\n",
    "import numpy.matlib\n",
    "import matplotlib.pyplot as plt\n",
    "import seaborn as sns\n",
    "import random\n",
    "from sklearn.cluster import KMeans\n",
    "from mpl_toolkits.mplot3d import Axes3D\n",
    "from sklearn import preprocessing\n",
    "\n",
    "\n",
    "\n",
    "data=pd.read_csv(\"https://raw.githubusercontent.com/OxCGRT/USA-covid-policy/master/data/OxCGRT_US_latest.csv\")\n"
   ]
  },
  {
   "cell_type": "code",
   "execution_count": 2,
   "metadata": {},
   "outputs": [],
   "source": [
    "data_new=data[[\"RegionName\", \"Jurisdiction\", \"Date\", 'StringencyIndexForDisplay', 'GovernmentResponseIndexForDisplay', 'ContainmentHealthIndexForDisplay', 'EconomicSupportIndexForDisplay']]"
   ]
  },
  {
   "cell_type": "code",
   "execution_count": 3,
   "metadata": {},
   "outputs": [],
   "source": [
    "data=data_new[data.Jurisdiction==\"STATE_ALL\"]"
   ]
  },
  {
   "cell_type": "code",
   "execution_count": 4,
   "metadata": {},
   "outputs": [],
   "source": [
    "data_new.drop('Jurisdiction', axis=1, inplace=True)"
   ]
  },
  {
   "cell_type": "code",
   "execution_count": 5,
   "metadata": {},
   "outputs": [],
   "source": [
    "# data=data_new\n"
   ]
  },
  {
   "cell_type": "code",
   "execution_count": 6,
   "metadata": {},
   "outputs": [],
   "source": [
    "data_april=data[data.Date.astype(str).str.contains(\"202004\")]\n",
    "# print(data_april.head)"
   ]
  },
  {
   "cell_type": "code",
   "execution_count": 7,
   "metadata": {},
   "outputs": [],
   "source": [
    "columns_to_normalize=[\"StringencyIndexForDisplay\", \"GovernmentResponseIndexForDisplay\", \"ContainmentHealthIndexForDisplay\", \"EconomicSupportIndexForDisplay\"]\n",
    "def normalize_columns():\n",
    "    for i in columns_to_normalize:\n",
    "        max=data_april[i].max()\n",
    "        min=data_april[i].min()\n",
    "        new_str=i+\"_norm\"\n",
    "        data_april[new_str]=(data_april[i]-min)/(max-min)"
   ]
  },
  {
   "cell_type": "code",
   "execution_count": 8,
   "metadata": {},
   "outputs": [
    {
     "name": "stderr",
     "output_type": "stream",
     "text": [
      "<ipython-input-7-8ccef850f0de>:7: SettingWithCopyWarning: \n",
      "A value is trying to be set on a copy of a slice from a DataFrame.\n",
      "Try using .loc[row_indexer,col_indexer] = value instead\n",
      "\n",
      "See the caveats in the documentation: https://pandas.pydata.org/pandas-docs/stable/user_guide/indexing.html#returning-a-view-versus-a-copy\n",
      "  data_april[new_str]=(data_april[i]-min)/(max-min)\n"
     ]
    }
   ],
   "source": [
    "normalize_columns()\n",
    "# print(data_april.head)"
   ]
  },
  {
   "cell_type": "code",
   "execution_count": 9,
   "metadata": {},
   "outputs": [
    {
     "name": "stderr",
     "output_type": "stream",
     "text": [
      "<ipython-input-9-58469ef30399>:1: SettingWithCopyWarning: \n",
      "A value is trying to be set on a copy of a slice from a DataFrame\n",
      "\n",
      "See the caveats in the documentation: https://pandas.pydata.org/pandas-docs/stable/user_guide/indexing.html#returning-a-view-versus-a-copy\n",
      "  data_april.dropna(axis=0, how=\"any\", inplace=True)\n"
     ]
    }
   ],
   "source": [
    "data_april.dropna(axis=0, how=\"any\", inplace=True)"
   ]
  },
  {
   "cell_type": "code",
   "execution_count": 10,
   "metadata": {
    "scrolled": true
   },
   "outputs": [
    {
     "data": {
      "image/png": "[encoded data removed]",
      "text/plain": [
       "<Figure size 432x288 with 1 Axes>"
      ]
     },
     "metadata": {
      "needs_background": "light"
     },
     "output_type": "display_data"
    }
   ],
   "source": [
    "# find OPTIMAL value for kmeans\n",
    "from sklearn.cluster import KMeans\n",
    "april_kmeans = pd.DataFrame(data_april, columns=['StringencyIndexForDisplay_norm', 'GovernmentResponseIndexForDisplay_norm', 'ContainmentHealthIndexForDisplay_norm', 'EconomicSupportIndexForDisplay_norm'])\n",
    "Sum_of_squared_distances = []\n",
    "K = range(1,25)\n",
    "for k in K:\n",
    "    km = KMeans(n_clusters=k)\n",
    "    km = km.fit(april_kmeans[['StringencyIndexForDisplay_norm', 'GovernmentResponseIndexForDisplay_norm', 'ContainmentHealthIndexForDisplay_norm', 'EconomicSupportIndexForDisplay_norm']])\n",
    "    Sum_of_squared_distances.append(km.inertia_)\n",
    "plt.plot(K, Sum_of_squared_distances, 'bx-')\n",
    "plt.xlabel('k')\n",
    "plt.ylabel('Sum_of_squared_distances')\n",
    "plt.title('Elbow Method For Optimal k')\n",
    "plt.show()\n",
    "\n"
   ]
  },
  {
   "cell_type": "code",
   "execution_count": 11,
   "metadata": {},
   "outputs": [
    {
     "name": "stdout",
     "output_type": "stream",
     "text": [
      "     StringencyIndexForDisplay_norm  GovernmentResponseIndexForDisplay_norm  \\\n",
      "352                        0.901735                                0.887642   \n",
      "353                        0.901735                                0.887642   \n",
      "354                        1.000000                                0.954952   \n",
      "355                        1.000000                                0.954952   \n",
      "356                        1.000000                                0.954952   \n",
      "\n",
      "     ContainmentHealthIndexForDisplay_norm  \\\n",
      "352                               0.859268   \n",
      "353                               0.859268   \n",
      "354                               0.943670   \n",
      "355                               0.943670   \n",
      "356                               0.943670   \n",
      "\n",
      "     EconomicSupportIndexForDisplay_norm  Cluster   State  \n",
      "352                                 0.75        3  Alaska  \n",
      "353                                 0.75        3  Alaska  \n",
      "354                                 0.75        3  Alaska  \n",
      "355                                 0.75        3  Alaska  \n",
      "356                                 0.75        3  Alaska  \n"
     ]
    }
   ],
   "source": [
    "# run KMeans\n",
    "kmeans = KMeans(n_clusters=4)\n",
    "y = kmeans.fit_predict(april_kmeans[['StringencyIndexForDisplay_norm', 'GovernmentResponseIndexForDisplay_norm', 'ContainmentHealthIndexForDisplay_norm', 'EconomicSupportIndexForDisplay_norm']])\n",
    "april_kmeans['Cluster'] = y\n",
    "april_kmeans[\"State\"]=data_april[\"RegionName\"]\n",
    "print(april_kmeans.head())"
   ]
  },
  {
   "cell_type": "code",
   "execution_count": 12,
   "metadata": {},
   "outputs": [
    {
     "name": "stdout",
     "output_type": "stream",
     "text": [
      "{1: ['Arizona', 'Colorado', 'Connecticut', 'Florida', 'Georgia', 'Illinois', 'Indiana', 'Louisiana', 'Massachusetts', 'New Jersey', 'Oregon', 'Pennsylvania', 'South Carolina', 'Vermont', 'Wisconsin', 'West Virginia'], 2: ['Alabama', 'Hawaii', 'Idaho', 'Kansas', 'Michigan', 'Minnesota', 'Missouri', 'North Carolina', 'New Mexico', 'Nevada', 'Ohio', 'Oklahoma', 'Tennessee', 'Texas', 'Virginia', 'Washington', 'Wyoming'], 3: ['Arkansas', 'Iowa', 'Mississippi', 'North Dakota', 'Nebraska', 'South Dakota', 'Utah', 'Virgin Islands'], 4: ['Alaska', 'California', 'Washington DC', 'Delaware', 'Kentucky', 'Maryland', 'Maine', 'Montana', 'New Hampshire', 'New York', 'Rhode Island'], 5: []}\n"
     ]
    }
   ],
   "source": [
    "# APRIL make dictionaries of each state in each cluster and how many datapoints from that state are in that cluster\n",
    "\n",
    "april_cluster1={}\n",
    "april_cluster2={}\n",
    "april_cluster3={}\n",
    "april_cluster4={}\n",
    "# april_cluster5={}\n",
    "# april_cluster6={}\n",
    "# april_cluster7={}\n",
    "april_cluster0={}\n",
    "list_of_clusters_dicts=[april_cluster0,april_cluster1,april_cluster2,april_cluster3,april_cluster4]\n",
    "for index, row in april_kmeans.iterrows():\n",
    "    for i in range(0,5):\n",
    "        if row[\"Cluster\"]==i:\n",
    "            if row[\"State\"] in list_of_clusters_dicts[i]:\n",
    "                list_of_clusters_dicts[i][row[\"State\"]]+=1\n",
    "            else:\n",
    "                list_of_clusters_dicts[i][row[\"State\"]]=1\n",
    "\n",
    "list_of_clusters_dicts=[april_cluster0,april_cluster1,april_cluster2,april_cluster3,april_cluster4]\n",
    "states_and_their_clusters={}\n",
    "for index, row in april_kmeans.iterrows():\n",
    "    if row[\"State\"] in states_and_their_clusters:\n",
    "        pass\n",
    "    else:\n",
    "        state_dict={}\n",
    "        for i in range(len(list_of_clusters_dicts)):\n",
    "            if row[\"State\"] in list_of_clusters_dicts[i]:\n",
    "                state_dict[i+1]=list_of_clusters_dicts[i][row[\"State\"]]\n",
    "        state_dict_vals=list(state_dict.values())\n",
    "        state_dict_keys=list(state_dict.keys())\n",
    "        state_vals_max=max(state_dict_vals)\n",
    "        max_ind=state_dict_vals.index(state_vals_max)\n",
    "        max_cluster= state_dict_keys[max_ind]\n",
    "        states_and_their_clusters[row[\"State\"]]= max_cluster\n",
    "# print(states_and_their_clusters)\n",
    "\n",
    "clusters_and_their_states={1:[], 2:[], 3:[], 4:[], 5:[]}\n",
    "\n",
    "for i in states_and_their_clusters.keys():\n",
    "    for j in range(1,6):\n",
    "        if states_and_their_clusters[i]==j:\n",
    "            clusters_and_their_states[j].append(i)\n",
    "\n",
    "\n",
    "print(clusters_and_their_states)\n",
    "                \n",
    "    "
   ]
  },
  {
   "cell_type": "code",
   "execution_count": 13,
   "metadata": {},
   "outputs": [
    {
     "data": {
      "image/png": "[encoded data removed]",
      "text/plain": [
       "<Figure size 432x288 with 1 Axes>"
      ]
     },
     "metadata": {
      "needs_background": "light"
     },
     "output_type": "display_data"
    }
   ],
   "source": [
    "# 4d plot for april kmeans\n",
    "fig = plt.figure()\n",
    "ax = fig.add_subplot(111, projection='3d')\n",
    "\n",
    "x = april_kmeans[\"GovernmentResponseIndexForDisplay_norm\"]\n",
    "y = april_kmeans[\"ContainmentHealthIndexForDisplay_norm\"]\n",
    "z = april_kmeans[\"EconomicSupportIndexForDisplay_norm\"]\n",
    "# c = april_kmeans[\"StringencyIndexForDisplay_norm\"]\n",
    "s= april_kmeans[\"StringencyIndexForDisplay_norm\"]\n",
    "# img = ax.scatter(x, y, z, c=c, cmap=plt.hot())\n",
    "# img = ax.scatter(x, y, z)\n",
    "\n",
    "categories = np.unique(april_kmeans[\"Cluster\"])\n",
    "colors = np.linspace(0, 1, len(categories))\n",
    "colordict = dict(zip(categories, colors))  \n",
    "april_kmeans[\"Color\"] = april_kmeans[\"Cluster\"].apply(lambda x: colordict[x])\n",
    "\n",
    "img=ax.scatter(x,y,z, c=april_kmeans.Color)\n",
    "\n",
    "\n",
    "# fig.colorbar(img)\n",
    "plt.show()\n"
   ]
  },
  {
   "cell_type": "code",
   "execution_count": 14,
   "metadata": {},
   "outputs": [
    {
     "data": {
      "text/plain": [
       "'April K means.html'"
      ]
     },
     "execution_count": 14,
     "metadata": {},
     "output_type": "execute_result"
    }
   ],
   "source": [
    "# 5d plot for april kmeans\n",
    "\n",
    "import plotly\n",
    "import plotly.graph_objs as go\n",
    "\n",
    "#Set marker properties\n",
    "markersize = april_kmeans['StringencyIndexForDisplay_norm'] *30\n",
    "markercolor = april_kmeans['Cluster']\n",
    "\n",
    "#Make Plotly figure\n",
    "fig1 = go.Scatter3d(x=april_kmeans[\"GovernmentResponseIndexForDisplay_norm\"],\n",
    "                    y=april_kmeans[\"ContainmentHealthIndexForDisplay_norm\"],\n",
    "                    z=april_kmeans[\"EconomicSupportIndexForDisplay_norm\"],\n",
    "                    marker=dict(size=markersize,\n",
    "                                color=markercolor,\n",
    "                                opacity=0.9,\n",
    "                                reversescale=True,colorscale='Rainbow'),\n",
    "                    line=dict(width=12),\n",
    "                    mode='markers', hovertemplate=\"%{text}\" +\"<br>Stringency Index (out of 100): %{marker.size:,} <br> Gov't Response Index: %{x}\"+\"<br>Containment Health Index: %{y}\"+ \"<br>Economic Support Index: %{z}\",\n",
    "                    text=april_kmeans.State)\n",
    "\n",
    "#Make Plot.ly Layout\n",
    "mylayout = go.Layout(scene=dict(xaxis=dict( title=\"Gov't Response Index\"),\n",
    "                                yaxis=dict( title=\"Containment Health Index\"),\n",
    "                                zaxis=dict(title=\"Economic Support Index\")),)\n",
    "                    \n",
    "\n",
    "#Plot and save html\n",
    "plotly.offline.plot({\"data\": [fig1],\n",
    "                     \"layout\": mylayout},\n",
    "                     auto_open=True, filename=(\"April K means.html\")\n",
    "                   )\n"
   ]
  },
  {
   "cell_type": "code",
   "execution_count": null,
   "metadata": {},
   "outputs": [],
   "source": []
  },
  {
   "cell_type": "code",
   "execution_count": null,
   "metadata": {},
   "outputs": [],
   "source": []
  }
 ],
 "metadata": {
  "kernelspec": {
   "display_name": "Python 3",
   "language": "python",
   "name": "python3"
  },
  "language_info": {
   "codemirror_mode": {
    "name": "ipython",
    "version": 3
   },
   "file_extension": ".py",
   "mimetype": "text/x-python",
   "name": "python",
   "nbconvert_exporter": "python",
   "pygments_lexer": "ipython3",
   "version": "3.8.2"
  }
 },
 "nbformat": 4,
 "nbformat_minor": 4
}
