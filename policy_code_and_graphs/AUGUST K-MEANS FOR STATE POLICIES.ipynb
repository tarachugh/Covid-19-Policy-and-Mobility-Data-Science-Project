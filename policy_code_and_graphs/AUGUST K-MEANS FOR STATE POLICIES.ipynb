{
 "cells": [
  {
   "cell_type": "code",
   "execution_count": 1,
   "metadata": {},
   "outputs": [],
   "source": [
    "import numpy as np\n",
    "import pandas as pd\n",
    "import numpy.matlib\n",
    "import matplotlib.pyplot as plt\n",
    "import seaborn as sns\n",
    "import random\n",
    "from sklearn.cluster import KMeans\n",
    "from mpl_toolkits.mplot3d import Axes3D\n",
    "from sklearn import preprocessing\n",
    "\n",
    "\n",
    "\n",
    "data=pd.read_csv(\"https://raw.githubusercontent.com/OxCGRT/USA-covid-policy/master/data/OxCGRT_US_latest.csv\")\n"
   ]
  },
  {
   "cell_type": "code",
   "execution_count": 2,
   "metadata": {},
   "outputs": [],
   "source": [
    "data_new=data[[\"RegionName\", \"Jurisdiction\", \"Date\", 'StringencyIndexForDisplay', 'GovernmentResponseIndexForDisplay', 'ContainmentHealthIndexForDisplay', 'EconomicSupportIndexForDisplay']]"
   ]
  },
  {
   "cell_type": "code",
   "execution_count": 3,
   "metadata": {},
   "outputs": [],
   "source": [
    "data=data_new[data.Jurisdiction==\"STATE_ALL\"]"
   ]
  },
  {
   "cell_type": "code",
   "execution_count": 4,
   "metadata": {},
   "outputs": [],
   "source": [
    "data_new.drop('Jurisdiction', axis=1, inplace=True)"
   ]
  },
  {
   "cell_type": "code",
   "execution_count": 5,
   "metadata": {},
   "outputs": [],
   "source": [
    "data=data_new"
   ]
  },
  {
   "cell_type": "code",
   "execution_count": 6,
   "metadata": {},
   "outputs": [],
   "source": [
    "data_aug=data[data.Date.astype(str).str.contains(\"202008\")]\n",
    "# print(data_aug.head)"
   ]
  },
  {
   "cell_type": "code",
   "execution_count": 7,
   "metadata": {},
   "outputs": [],
   "source": [
    "columns_to_normalize=[\"StringencyIndexForDisplay\", \"GovernmentResponseIndexForDisplay\", \"ContainmentHealthIndexForDisplay\", \"EconomicSupportIndexForDisplay\"]\n",
    "def normalize_columns():\n",
    "    for i in columns_to_normalize:\n",
    "        max=data_aug[i].max()\n",
    "        min=data_aug[i].min()\n",
    "        new_str=i+\"_norm\"\n",
    "        data_aug[new_str]=(data_aug[i]-min)/(max-min)"
   ]
  },
  {
   "cell_type": "code",
   "execution_count": 8,
   "metadata": {
    "scrolled": true
   },
   "outputs": [
    {
     "name": "stderr",
     "output_type": "stream",
     "text": [
      "<ipython-input-7-f6057a8a0e76>:7: SettingWithCopyWarning: \n",
      "A value is trying to be set on a copy of a slice from a DataFrame.\n",
      "Try using .loc[row_indexer,col_indexer] = value instead\n",
      "\n",
      "See the caveats in the documentation: https://pandas.pydata.org/pandas-docs/stable/user_guide/indexing.html#returning-a-view-versus-a-copy\n",
      "  data_aug[new_str]=(data_aug[i]-min)/(max-min)\n"
     ]
    }
   ],
   "source": [
    "normalize_columns()\n",
    "# print(data_aug.head)"
   ]
  },
  {
   "cell_type": "code",
   "execution_count": 9,
   "metadata": {
    "scrolled": true
   },
   "outputs": [
    {
     "name": "stderr",
     "output_type": "stream",
     "text": [
      "<ipython-input-9-95056a84e590>:1: SettingWithCopyWarning: \n",
      "A value is trying to be set on a copy of a slice from a DataFrame\n",
      "\n",
      "See the caveats in the documentation: https://pandas.pydata.org/pandas-docs/stable/user_guide/indexing.html#returning-a-view-versus-a-copy\n",
      "  data_aug.dropna(axis=0, how=\"any\", inplace=True)\n"
     ]
    }
   ],
   "source": [
    "data_aug.dropna(axis=0, how=\"any\", inplace=True)"
   ]
  },
  {
   "cell_type": "code",
   "execution_count": 10,
   "metadata": {
    "scrolled": true
   },
   "outputs": [
    {
     "data": {
      "image/png": "[encoded data removed]",
      "text/plain": [
       "<Figure size 432x288 with 1 Axes>"
      ]
     },
     "metadata": {
      "needs_background": "light"
     },
     "output_type": "display_data"
    }
   ],
   "source": [
    "# find OPTIMAL value for kmeans\n",
    "from sklearn.cluster import KMeans\n",
    "aug_kmeans = pd.DataFrame(data_aug, columns=['StringencyIndexForDisplay_norm', 'GovernmentResponseIndexForDisplay_norm', 'ContainmentHealthIndexForDisplay_norm', 'EconomicSupportIndexForDisplay_norm'])\n",
    "Sum_of_squared_distances = []\n",
    "K = range(1,25)\n",
    "for k in K:\n",
    "    km = KMeans(n_clusters=k)\n",
    "    km = km.fit(aug_kmeans[['StringencyIndexForDisplay_norm', 'GovernmentResponseIndexForDisplay_norm', 'ContainmentHealthIndexForDisplay_norm', 'EconomicSupportIndexForDisplay_norm']])\n",
    "    Sum_of_squared_distances.append(km.inertia_)\n",
    "plt.plot(K, Sum_of_squared_distances, 'bx-')\n",
    "plt.xlabel('k')\n",
    "plt.ylabel('Sum_of_squared_distances')\n",
    "plt.title('Elbow Method For Optimal k')\n",
    "plt.show()\n",
    "\n"
   ]
  },
  {
   "cell_type": "code",
   "execution_count": 11,
   "metadata": {
    "scrolled": true
   },
   "outputs": [
    {
     "name": "stdout",
     "output_type": "stream",
     "text": [
      "     StringencyIndexForDisplay_norm  GovernmentResponseIndexForDisplay_norm  \\\n",
      "474                        0.427453                                0.506088   \n",
      "475                        0.427453                                0.506088   \n",
      "476                        0.543434                                0.603691   \n",
      "477                        0.543434                                0.603691   \n",
      "478                        0.543434                                0.603691   \n",
      "\n",
      "     ContainmentHealthIndexForDisplay_norm  \\\n",
      "474                               0.373434   \n",
      "475                               0.373434   \n",
      "476                               0.474687   \n",
      "477                               0.474687   \n",
      "478                               0.474687   \n",
      "\n",
      "     EconomicSupportIndexForDisplay_norm  Cluster   State  \n",
      "474                                 0.75        3  Alaska  \n",
      "475                                 0.75        3  Alaska  \n",
      "476                                 0.75        3  Alaska  \n",
      "477                                 0.75        3  Alaska  \n",
      "478                                 0.75        3  Alaska  \n"
     ]
    }
   ],
   "source": [
    "# run KMeans\n",
    "kmeans = KMeans(n_clusters=4)\n",
    "y = kmeans.fit_predict(aug_kmeans[['StringencyIndexForDisplay_norm', 'GovernmentResponseIndexForDisplay_norm', 'ContainmentHealthIndexForDisplay_norm', 'EconomicSupportIndexForDisplay_norm']])\n",
    "aug_kmeans['Cluster'] = y\n",
    "aug_kmeans[\"State\"]=data_aug[\"RegionName\"]\n",
    "print(aug_kmeans.head())"
   ]
  },
  {
   "cell_type": "code",
   "execution_count": 12,
   "metadata": {},
   "outputs": [
    {
     "name": "stdout",
     "output_type": "stream",
     "text": [
      "{1: ['Alabama', 'Arkansas', 'Idaho', 'North Dakota', 'Nebraska', 'Oklahoma', 'South Dakota', 'Utah'], 2: ['California', 'Colorado', 'Connecticut', 'Delaware', 'Hawaii', 'Kentucky', 'Massachusetts', 'Maryland', 'Maine', 'New Jersey', 'New Mexico', 'New York', 'Ohio', 'Oregon', 'Rhode Island', 'Vermont'], 3: ['Arizona', 'Washington DC', 'Illinois', 'Kansas', 'Louisiana', 'Michigan', 'Minnesota', 'Missouri', 'Montana', 'North Carolina', 'New Hampshire', 'Tennessee', 'Texas', 'Virginia', 'Virgin Islands', 'Wisconsin', 'West Virginia'], 4: ['Alaska', 'Florida', 'Georgia', 'Iowa', 'Indiana', 'Mississippi', 'Nevada', 'Pennsylvania', 'South Carolina', 'Washington', 'Wyoming'], 5: [], 6: [], 7: [], 8: []}\n"
     ]
    }
   ],
   "source": [
    "# aug make dictionaries of each state in each cluster and how many datapoints from that state are in that cluster\n",
    "\n",
    "aug_cluster1={}\n",
    "aug_cluster2={}\n",
    "aug_cluster3={}\n",
    "aug_cluster4={}\n",
    "aug_cluster5={}\n",
    "aug_cluster6={}\n",
    "aug_cluster7={}\n",
    "aug_cluster0={}\n",
    "list_of_clusters_dicts=[aug_cluster0,aug_cluster1,aug_cluster2,aug_cluster3,aug_cluster4,aug_cluster5,aug_cluster6,aug_cluster7]\n",
    "\n",
    "for index, row in aug_kmeans.iterrows():\n",
    "    for i in range(0,8):\n",
    "        if row[\"Cluster\"]==i:\n",
    "            if row[\"State\"] in list_of_clusters_dicts[i]:\n",
    "                list_of_clusters_dicts[i][row[\"State\"]]+=1\n",
    "            else:\n",
    "                list_of_clusters_dicts[i][row[\"State\"]]=1\n",
    "\n",
    "list_of_clusters_dicts=[aug_cluster0,aug_cluster1,aug_cluster2,aug_cluster3,aug_cluster4,aug_cluster5,aug_cluster6,aug_cluster7]\n",
    "\n",
    "states_and_their_clusters={}\n",
    "for index, row in aug_kmeans.iterrows():\n",
    "    if row[\"State\"] in states_and_their_clusters:\n",
    "        pass\n",
    "    else:\n",
    "        state_dict={}\n",
    "        for i in range(len(list_of_clusters_dicts)):\n",
    "            if row[\"State\"] in list_of_clusters_dicts[i]:\n",
    "                state_dict[i+1]=list_of_clusters_dicts[i][row[\"State\"]]\n",
    "        state_dict_vals=list(state_dict.values())\n",
    "        state_dict_keys=list(state_dict.keys())\n",
    "        state_vals_max=max(state_dict_vals)\n",
    "        max_ind=state_dict_vals.index(state_vals_max)\n",
    "        max_cluster= state_dict_keys[max_ind]\n",
    "        states_and_their_clusters[row[\"State\"]]= max_cluster\n",
    "# print(states_and_their_clusters)\n",
    "\n",
    "clusters_and_their_states={1:[], 2:[], 3:[], 4:[], 5:[], 6:[], 7:[], 8:[]}\n",
    "\n",
    "for i in states_and_their_clusters.keys():\n",
    "    for j in range(1,9):\n",
    "        if states_and_their_clusters[i]==j:\n",
    "            clusters_and_their_states[j].append(i)\n",
    "\n",
    "\n",
    "print(clusters_and_their_states)\n",
    "                \n",
    "    "
   ]
  },
  {
   "cell_type": "code",
   "execution_count": 13,
   "metadata": {},
   "outputs": [
    {
     "data": {
      "image/png": "[encoded data removed]",
      "text/plain": [
       "<Figure size 432x288 with 1 Axes>"
      ]
     },
     "metadata": {
      "needs_background": "light"
     },
     "output_type": "display_data"
    }
   ],
   "source": [
    "# 4d plot for aug kmeans\n",
    "fig = plt.figure()\n",
    "ax = fig.add_subplot(111, projection='3d')\n",
    "\n",
    "x = aug_kmeans[\"GovernmentResponseIndexForDisplay_norm\"]\n",
    "y = aug_kmeans[\"ContainmentHealthIndexForDisplay_norm\"]\n",
    "z = aug_kmeans[\"EconomicSupportIndexForDisplay_norm\"]\n",
    "# c = aug_kmeans[\"StringencyIndexForDisplay_norm\"]\n",
    "s= aug_kmeans[\"StringencyIndexForDisplay_norm\"]\n",
    "# img = ax.scatter(x, y, z, c=c, cmap=plt.hot())\n",
    "# img = ax.scatter(x, y, z)\n",
    "\n",
    "categories = np.unique(aug_kmeans[\"Cluster\"])\n",
    "colors = np.linspace(0, 1, len(categories))\n",
    "colordict = dict(zip(categories, colors))  \n",
    "aug_kmeans[\"Color\"] = aug_kmeans[\"Cluster\"].apply(lambda x: colordict[x])\n",
    "\n",
    "img=ax.scatter(x,y,z, c=aug_kmeans.Color)\n",
    "\n",
    "\n",
    "# fig.colorbar(img)\n",
    "plt.show()\n"
   ]
  },
  {
   "cell_type": "code",
   "execution_count": 14,
   "metadata": {},
   "outputs": [
    {
     "data": {
      "text/plain": [
       "'aug K means.html'"
      ]
     },
     "execution_count": 14,
     "metadata": {},
     "output_type": "execute_result"
    }
   ],
   "source": [
    "# 5d plot for aug kmeans\n",
    "\n",
    "import plotly\n",
    "import plotly.graph_objs as go\n",
    "\n",
    "#Set marker properties\n",
    "markersize = aug_kmeans['StringencyIndexForDisplay_norm'] *30\n",
    "markercolor = aug_kmeans['Cluster']\n",
    "\n",
    "#Make Plotly figure\n",
    "fig1 = go.Scatter3d(x=aug_kmeans[\"GovernmentResponseIndexForDisplay_norm\"],\n",
    "                    y=aug_kmeans[\"ContainmentHealthIndexForDisplay_norm\"],\n",
    "                    z=aug_kmeans[\"EconomicSupportIndexForDisplay_norm\"],\n",
    "                    marker=dict(size=markersize,\n",
    "                                color=markercolor,\n",
    "                                opacity=0.9,\n",
    "                                reversescale=True,colorscale='Blues'),\n",
    "                    line=dict (width=0.02),\n",
    "                    mode='markers',hovertemplate=\"%{text}\" +\"<br>Stringency Index (out of 100): %{marker.size:,} <br> Gov't Response Index: %{x}\"+\"<br>Containment Health Index: %{y}\"+ \"<br>Economic Support Index: %{z}\",\n",
    "                    text=aug_kmeans.State)\n",
    "\n",
    "#Make Plot.ly Layout\n",
    "mylayout = go.Layout(scene=dict(xaxis=dict( title=\"Gov't Response Index\"),\n",
    "                                yaxis=dict( title=\"Containment Health Index\"),\n",
    "                                zaxis=dict(title=\"Economic Support Index\")),\n",
    "                    )\n",
    "\n",
    "#Plot and save html\n",
    "plotly.offline.plot({\"data\": [fig1],\n",
    "                     \"layout\": mylayout},\n",
    "                     auto_open=True, filename=(\"aug K means.html\")\n",
    "                   )\n"
   ]
  },
  {
   "cell_type": "code",
   "execution_count": null,
   "metadata": {},
   "outputs": [],
   "source": []
  },
  {
   "cell_type": "code",
   "execution_count": null,
   "metadata": {},
   "outputs": [],
   "source": []
  }
 ],
 "metadata": {
  "kernelspec": {
   "display_name": "Python 3",
   "language": "python",
   "name": "python3"
  },
  "language_info": {
   "codemirror_mode": {
    "name": "ipython",
    "version": 3
   },
   "file_extension": ".py",
   "mimetype": "text/x-python",
   "name": "python",
   "nbconvert_exporter": "python",
   "pygments_lexer": "ipython3",
   "version": "3.8.2"
  }
 },
 "nbformat": 4,
 "nbformat_minor": 4
}
