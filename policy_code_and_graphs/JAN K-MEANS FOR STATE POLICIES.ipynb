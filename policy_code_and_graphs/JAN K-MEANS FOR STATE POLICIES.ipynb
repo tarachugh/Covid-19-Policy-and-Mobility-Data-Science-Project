{
 "cells": [
  {
   "cell_type": "code",
   "execution_count": 30,
   "metadata": {},
   "outputs": [],
   "source": [
    "import numpy as np\n",
    "import pandas as pd\n",
    "import numpy.matlib\n",
    "import matplotlib.pyplot as plt\n",
    "import seaborn as sns\n",
    "import random\n",
    "from sklearn.cluster import KMeans\n",
    "from mpl_toolkits.mplot3d import Axes3D\n",
    "from sklearn import preprocessing\n",
    "\n",
    "\n",
    "\n",
    "data=pd.read_csv(\"https://raw.githubusercontent.com/OxCGRT/USA-covid-policy/master/data/OxCGRT_US_latest.csv\")\n"
   ]
  },
  {
   "cell_type": "code",
   "execution_count": 31,
   "metadata": {},
   "outputs": [],
   "source": [
    "data_new=data[[\"RegionName\", \"Jurisdiction\", \"Date\", 'StringencyIndexForDisplay', 'GovernmentResponseIndexForDisplay', 'ContainmentHealthIndexForDisplay', 'EconomicSupportIndexForDisplay']]"
   ]
  },
  {
   "cell_type": "code",
   "execution_count": 32,
   "metadata": {},
   "outputs": [],
   "source": [
    "data=data_new[data.Jurisdiction==\"STATE_ALL\"]"
   ]
  },
  {
   "cell_type": "code",
   "execution_count": 33,
   "metadata": {},
   "outputs": [],
   "source": [
    "data_new.drop('Jurisdiction', axis=1, inplace=True)"
   ]
  },
  {
   "cell_type": "code",
   "execution_count": 34,
   "metadata": {},
   "outputs": [],
   "source": [
    "data=data_new"
   ]
  },
  {
   "cell_type": "code",
   "execution_count": 35,
   "metadata": {},
   "outputs": [],
   "source": [
    "data_jan=data[data.Date.astype(str).str.contains(\"202001\")]\n",
    "# print(data_jan.head)"
   ]
  },
  {
   "cell_type": "code",
   "execution_count": 36,
   "metadata": {},
   "outputs": [],
   "source": [
    "columns_to_normalize=[\"StringencyIndexForDisplay\", \"GovernmentResponseIndexForDisplay\", \"ContainmentHealthIndexForDisplay\", \"EconomicSupportIndexForDisplay\"]\n",
    "def normalize_columns():\n",
    "    for i in columns_to_normalize:\n",
    "        max=data_jan[i].max()\n",
    "        min=data_jan[i].min()\n",
    "        new_str=i+\"_norm\"\n",
    "        data_jan[new_str]=(data_jan[i]-min)/(max-min)"
   ]
  },
  {
   "cell_type": "code",
   "execution_count": 37,
   "metadata": {},
   "outputs": [
    {
     "name": "stderr",
     "output_type": "stream",
     "text": [
      "<ipython-input-36-060f583f63e1>:7: SettingWithCopyWarning:\n",
      "\n",
      "\n",
      "A value is trying to be set on a copy of a slice from a DataFrame.\n",
      "Try using .loc[row_indexer,col_indexer] = value instead\n",
      "\n",
      "See the caveats in the documentation: https://pandas.pydata.org/pandas-docs/stable/user_guide/indexing.html#returning-a-view-versus-a-copy\n",
      "\n"
     ]
    }
   ],
   "source": [
    "normalize_columns()\n",
    "# print(data_jan.head)"
   ]
  },
  {
   "cell_type": "code",
   "execution_count": 38,
   "metadata": {},
   "outputs": [
    {
     "name": "stderr",
     "output_type": "stream",
     "text": [
      "<ipython-input-38-8f39d1243874>:1: SettingWithCopyWarning:\n",
      "\n",
      "\n",
      "A value is trying to be set on a copy of a slice from a DataFrame\n",
      "\n",
      "See the caveats in the documentation: https://pandas.pydata.org/pandas-docs/stable/user_guide/indexing.html#returning-a-view-versus-a-copy\n",
      "\n"
     ]
    }
   ],
   "source": [
    "data_jan.dropna(axis=0, how=\"any\", inplace=True)"
   ]
  },
  {
   "cell_type": "code",
   "execution_count": 39,
   "metadata": {
    "scrolled": true
   },
   "outputs": [
    {
     "name": "stderr",
     "output_type": "stream",
     "text": [
      "<ipython-input-39-47303145dc61>:8: ConvergenceWarning:\n",
      "\n",
      "Number of distinct clusters (17) found smaller than n_clusters (18). Possibly due to duplicate points in X.\n",
      "\n",
      "<ipython-input-39-47303145dc61>:8: ConvergenceWarning:\n",
      "\n",
      "Number of distinct clusters (17) found smaller than n_clusters (19). Possibly due to duplicate points in X.\n",
      "\n",
      "<ipython-input-39-47303145dc61>:8: ConvergenceWarning:\n",
      "\n",
      "Number of distinct clusters (17) found smaller than n_clusters (20). Possibly due to duplicate points in X.\n",
      "\n",
      "<ipython-input-39-47303145dc61>:8: ConvergenceWarning:\n",
      "\n",
      "Number of distinct clusters (17) found smaller than n_clusters (21). Possibly due to duplicate points in X.\n",
      "\n",
      "<ipython-input-39-47303145dc61>:8: ConvergenceWarning:\n",
      "\n",
      "Number of distinct clusters (17) found smaller than n_clusters (22). Possibly due to duplicate points in X.\n",
      "\n",
      "<ipython-input-39-47303145dc61>:8: ConvergenceWarning:\n",
      "\n",
      "Number of distinct clusters (17) found smaller than n_clusters (23). Possibly due to duplicate points in X.\n",
      "\n",
      "<ipython-input-39-47303145dc61>:8: ConvergenceWarning:\n",
      "\n",
      "Number of distinct clusters (17) found smaller than n_clusters (24). Possibly due to duplicate points in X.\n",
      "\n"
     ]
    },
    {
     "data": {
      "image/png": "[encoded data removed]",
      "text/plain": [
       "<Figure size 432x288 with 1 Axes>"
      ]
     },
     "metadata": {
      "needs_background": "light"
     },
     "output_type": "display_data"
    }
   ],
   "source": [
    "# find OPTIMAL value for kmeans\n",
    "from sklearn.cluster import KMeans\n",
    "jan_kmeans = pd.DataFrame(data_jan, columns=['StringencyIndexForDisplay_norm', 'GovernmentResponseIndexForDisplay_norm', 'ContainmentHealthIndexForDisplay_norm', 'EconomicSupportIndexForDisplay_norm'])\n",
    "Sum_of_squared_distances = []\n",
    "K = range(1,25)\n",
    "for k in K:\n",
    "    km = KMeans(n_clusters=k)\n",
    "    km = km.fit(jan_kmeans[['StringencyIndexForDisplay_norm', 'GovernmentResponseIndexForDisplay_norm', 'ContainmentHealthIndexForDisplay_norm', 'EconomicSupportIndexForDisplay_norm']])\n",
    "    Sum_of_squared_distances.append(km.inertia_)\n",
    "plt.plot(K, Sum_of_squared_distances, 'bx-')\n",
    "plt.xlabel('k')\n",
    "plt.ylabel('Sum_of_squared_distances')\n",
    "plt.title('Elbow Method For Optimal k')\n",
    "plt.show()\n",
    "\n"
   ]
  },
  {
   "cell_type": "code",
   "execution_count": 40,
   "metadata": {},
   "outputs": [
    {
     "name": "stdout",
     "output_type": "stream",
     "text": [
      "     StringencyIndexForDisplay_norm  GovernmentResponseIndexForDisplay_norm  \\\n",
      "254                             0.0                                     0.0   \n",
      "255                             0.0                                     0.0   \n",
      "256                             0.0                                     0.0   \n",
      "257                             0.0                                     0.0   \n",
      "258                             0.0                                     0.0   \n",
      "\n",
      "     ContainmentHealthIndexForDisplay_norm  \\\n",
      "254                                    0.0   \n",
      "255                                    0.0   \n",
      "256                                    0.0   \n",
      "257                                    0.0   \n",
      "258                                    0.0   \n",
      "\n",
      "     EconomicSupportIndexForDisplay_norm  Cluster   State  \n",
      "254                                  0.0        1  Alaska  \n",
      "255                                  0.0        1  Alaska  \n",
      "256                                  0.0        1  Alaska  \n",
      "257                                  0.0        1  Alaska  \n",
      "258                                  0.0        1  Alaska  \n"
     ]
    }
   ],
   "source": [
    "# run KMeans\n",
    "kmeans = KMeans(n_clusters=4)\n",
    "y = kmeans.fit_predict(jan_kmeans[['StringencyIndexForDisplay_norm', 'GovernmentResponseIndexForDisplay_norm', 'ContainmentHealthIndexForDisplay_norm', 'EconomicSupportIndexForDisplay_norm']])\n",
    "jan_kmeans['Cluster'] = y\n",
    "jan_kmeans[\"State\"]=data_jan[\"RegionName\"]\n",
    "print(jan_kmeans.head())"
   ]
  },
  {
   "cell_type": "code",
   "execution_count": 41,
   "metadata": {},
   "outputs": [
    {
     "name": "stdout",
     "output_type": "stream",
     "text": [
      "{1: ['Alaska', 'Kentucky'], 2: ['Alabama', 'Arkansas', 'Arizona', 'California', 'Colorado', 'Connecticut', 'Washington DC', 'Delaware', 'Florida', 'Georgia', 'Hawaii', 'Iowa', 'Idaho', 'Illinois', 'Indiana', 'Kansas', 'Louisiana', 'Massachusetts', 'Maryland', 'Maine', 'Michigan', 'Minnesota', 'Missouri', 'Mississippi', 'Montana', 'North Carolina', 'North Dakota', 'Nebraska', 'New Hampshire', 'New Jersey', 'New Mexico', 'Nevada', 'New York', 'Ohio', 'Oklahoma', 'Oregon', 'Pennsylvania', 'Rhode Island', 'South Carolina', 'South Dakota', 'Tennessee', 'Texas', 'Utah', 'Virginia', 'Virgin Islands', 'Vermont', 'Wisconsin', 'West Virginia', 'Wyoming'], 3: ['Washington'], 4: [], 5: [], 6: [], 7: [], 8: []}\n"
     ]
    }
   ],
   "source": [
    "# JAN make dictionaries of each state in each cluster and how many datapoints from that state are in that cluster\n",
    "\n",
    "jan_cluster1={}\n",
    "jan_cluster2={}\n",
    "jan_cluster3={}\n",
    "jan_cluster4={}\n",
    "jan_cluster5={}\n",
    "jan_cluster6={}\n",
    "jan_cluster7={}\n",
    "jan_cluster0={}\n",
    "list_of_clusters_dicts=[jan_cluster0,jan_cluster1,jan_cluster2,jan_cluster3,jan_cluster4,jan_cluster5,jan_cluster6,jan_cluster7]\n",
    "\n",
    "for index, row in jan_kmeans.iterrows():\n",
    "    for i in range(0,8):\n",
    "        if row[\"Cluster\"]==i:\n",
    "            if row[\"State\"] in list_of_clusters_dicts[i]:\n",
    "                list_of_clusters_dicts[i][row[\"State\"]]+=1\n",
    "            else:\n",
    "                list_of_clusters_dicts[i][row[\"State\"]]=1\n",
    "\n",
    "list_of_clusters_dicts=[jan_cluster0,jan_cluster1,jan_cluster2,jan_cluster3,jan_cluster4,jan_cluster5,jan_cluster6,jan_cluster7]\n",
    "\n",
    "states_and_their_clusters={}\n",
    "for index, row in jan_kmeans.iterrows():\n",
    "    if row[\"State\"] in states_and_their_clusters:\n",
    "        pass\n",
    "    else:\n",
    "        state_dict={}\n",
    "        for i in range(len(list_of_clusters_dicts)):\n",
    "            if row[\"State\"] in list_of_clusters_dicts[i]:\n",
    "                state_dict[i+1]=list_of_clusters_dicts[i][row[\"State\"]]\n",
    "        state_dict_vals=list(state_dict.values())\n",
    "        state_dict_keys=list(state_dict.keys())\n",
    "        state_vals_max=max(state_dict_vals)\n",
    "        max_ind=state_dict_vals.index(state_vals_max)\n",
    "        max_cluster= state_dict_keys[max_ind]\n",
    "        states_and_their_clusters[row[\"State\"]]= max_cluster\n",
    "# print(states_and_their_clusters)\n",
    "\n",
    "clusters_and_their_states={1:[], 2:[], 3:[], 4:[], 5:[], 6:[], 7:[], 8:[]}\n",
    "\n",
    "for i in states_and_their_clusters.keys():\n",
    "    for j in range(1,9):\n",
    "        if states_and_their_clusters[i]==j:\n",
    "            clusters_and_their_states[j].append(i)\n",
    "\n",
    "\n",
    "print(clusters_and_their_states)\n",
    "                \n",
    "    "
   ]
  },
  {
   "cell_type": "code",
   "execution_count": 42,
   "metadata": {},
   "outputs": [
    {
     "data": {
      "image/png": "[encoded data removed]",
      "text/plain": [
       "<Figure size 432x288 with 1 Axes>"
      ]
     },
     "metadata": {
      "needs_background": "light"
     },
     "output_type": "display_data"
    }
   ],
   "source": [
    "# 4d plot for jan kmeans\n",
    "fig = plt.figure()\n",
    "ax = fig.add_subplot(111, projection='3d')\n",
    "\n",
    "x = jan_kmeans[\"GovernmentResponseIndexForDisplay_norm\"]\n",
    "y = jan_kmeans[\"ContainmentHealthIndexForDisplay_norm\"]\n",
    "z = jan_kmeans[\"EconomicSupportIndexForDisplay_norm\"]\n",
    "# c = jan_kmeans[\"StringencyIndexForDisplay_norm\"]\n",
    "s= jan_kmeans[\"StringencyIndexForDisplay_norm\"]\n",
    "# img = ax.scatter(x, y, z, c=c, cmap=plt.hot())\n",
    "# img = ax.scatter(x, y, z)\n",
    "\n",
    "categories = np.unique(jan_kmeans[\"Cluster\"])\n",
    "colors = np.linspace(0, 1, len(categories))\n",
    "colordict = dict(zip(categories, colors))  \n",
    "jan_kmeans[\"Color\"] = jan_kmeans[\"Cluster\"].apply(lambda x: colordict[x])\n",
    "\n",
    "img=ax.scatter(x,y,z, c=jan_kmeans.Color)\n",
    "\n",
    "\n",
    "# fig.colorbar(img)\n",
    "plt.show()\n"
   ]
  },
  {
   "cell_type": "code",
   "execution_count": 43,
   "metadata": {},
   "outputs": [
    {
     "data": {
      "text/plain": [
       "'jan K means.html'"
      ]
     },
     "execution_count": 43,
     "metadata": {},
     "output_type": "execute_result"
    }
   ],
   "source": [
    "# 5d plot for jan kmeans\n",
    "\n",
    "import plotly\n",
    "import plotly.graph_objs as go\n",
    "\n",
    "#Set marker properties\n",
    "markersize = jan_kmeans['StringencyIndexForDisplay_norm'] *30\n",
    "markercolor = jan_kmeans['Cluster']\n",
    "\n",
    "#Make Plotly figure\n",
    "fig1 = go.Scatter3d(x=jan_kmeans[\"GovernmentResponseIndexForDisplay_norm\"],\n",
    "                    y=jan_kmeans[\"ContainmentHealthIndexForDisplay_norm\"],\n",
    "                    z=jan_kmeans[\"EconomicSupportIndexForDisplay_norm\"],\n",
    "                    marker=dict(size=markersize,\n",
    "                                color=markercolor,\n",
    "                                opacity=0.9,\n",
    "                                reversescale=True,colorscale='Blues'),\n",
    "                    line=dict (width=0.02),\n",
    "                    mode='markers')\n",
    "\n",
    "#Make Plot.ly Layout\n",
    "mylayout = go.Layout(scene=dict(xaxis=dict( title=\"Gov't Response Index\"),\n",
    "                                yaxis=dict( title=\"Containment Health Index\"),\n",
    "                                zaxis=dict(title=\"Economic SUpport INdex\")),\n",
    "                    )\n",
    "\n",
    "#Plot and save html\n",
    "plotly.offline.plot({\"data\": [fig1],\n",
    "                     \"layout\": mylayout},\n",
    "                     auto_open=True, filename=(\"jan K means.html\")\n",
    "                   )\n"
   ]
  },
  {
   "cell_type": "code",
   "execution_count": null,
   "metadata": {},
   "outputs": [],
   "source": []
  }
 ],
 "metadata": {
  "kernelspec": {
   "display_name": "Python 3",
   "language": "python",
   "name": "python3"
  },
  "language_info": {
   "codemirror_mode": {
    "name": "ipython",
    "version": 3
   },
   "file_extension": ".py",
   "mimetype": "text/x-python",
   "name": "python",
   "nbconvert_exporter": "python",
   "pygments_lexer": "ipython3",
   "version": "3.8.2"
  }
 },
 "nbformat": 4,
 "nbformat_minor": 4
}
